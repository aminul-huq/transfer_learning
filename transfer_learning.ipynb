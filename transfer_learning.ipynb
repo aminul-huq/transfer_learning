{
 "cells": [
  {
   "cell_type": "markdown",
   "id": "fe637420-544f-4835-9129-38824c433dfe",
   "metadata": {},
   "source": [
    "## Transfer Learning\n",
    "\n",
    "1. Fine Tuning - Train the whole model from scartch\n",
    "2. Feature Extraction - Remove the last classification layer to train it. Don't train the previous parts. \n",
    "\n",
    "Helpful tutorial links:\n",
    "1. https://pytorch.org/tutorials/beginner/finetuning_torchvision_models_tutorial.html\n",
    "2. https://www.learnpytorch.io/06_pytorch_transfer_learning/\n",
    "3. Model lists: https://pytorch.org/vision/0.8/models.html\n"
   ]
  },
  {
   "cell_type": "code",
   "execution_count": null,
   "id": "5a1a29e5-eb51-4ed3-8c20-1f28fd8d5f38",
   "metadata": {},
   "outputs": [],
   "source": [
    "import torchvision.transforms as transforms\n",
    "import torchvision.datasets as datasets\n",
    "import torchvision\n",
    "from torch.utils.data import *\n",
    "import torch.optim as optim\n",
    "import torch.nn as nn\n",
    "from training_utils import *\n",
    "from torchinfo import summary\n",
    "\n",
    "import matplotlib.pyplot as plt\n",
    "import seaborn as sns\n",
    "import numpy as np\n",
    "import random,argparse, pickle\n",
    "from sklearn.model_selection import KFold\n",
    "from sklearn.metrics import precision_recall_fscore_support\n",
    "torch.manual_seed(0)\n",
    "random.seed(0)"
   ]
  },
  {
   "cell_type": "code",
   "execution_count": null,
   "id": "2878a7ba-f4ce-4563-a741-ac9aff943c2d",
   "metadata": {},
   "outputs": [],
   "source": [
    "weights = torchvision.models.AlexNet_Weights.DEFAULT # .DEFAULT = best available weights from pretraining on ImageNet\n",
    "weights"
   ]
  },
  {
   "cell_type": "code",
   "execution_count": null,
   "id": "0c99480f-eac0-4ec9-9484-55bc58b0bb88",
   "metadata": {},
   "outputs": [],
   "source": [
    "# Get the transforms used to create our pretrained weights\n",
    "auto_transforms = weights.transforms()\n",
    "auto_transforms"
   ]
  },
  {
   "cell_type": "code",
   "execution_count": null,
   "id": "683b0fd1-b82a-4b75-be7d-74488efbeb46",
   "metadata": {},
   "outputs": [],
   "source": [
    "train_dataset = datasets.CIFAR10('/home/aminul/data/', transform=auto_transforms, train=True, download=True)\n",
    "test_dataset  = datasets.CIFAR10('/home/aminul/data/', transform=auto_transforms, train=False, download=True)\n",
    "\n",
    "train_loader = DataLoader(train_dataset, batch_size=64, shuffle=True)\n",
    "test_loader = DataLoader(test_dataset, batch_size=64, shuffle=True)\n",
    "\n",
    "device = torch.device('cuda')"
   ]
  },
  {
   "cell_type": "code",
   "execution_count": null,
   "id": "1b894a18-de62-4108-b815-646b58fc2bb9",
   "metadata": {
    "tags": []
   },
   "outputs": [],
   "source": [
    "weights = torchvision.models.AlexNet_Weights.DEFAULT # .DEFAULT = best available weights \n",
    "model = torchvision.models.alexnet(weights=None).to(device)\n",
    "\n",
    "summary(model=model, \n",
    "        input_size=(32, 3, 224, 224), # make sure this is \"input_size\", not \"input_shape\"\n",
    "        # col_names=[\"input_size\"], # uncomment for smaller output\n",
    "        col_names=[\"input_size\", \"output_size\", \"num_params\", \"trainable\"],\n",
    "        col_width=20,\n",
    "        row_settings=[\"var_names\"]\n",
    ")"
   ]
  },
  {
   "cell_type": "code",
   "execution_count": null,
   "id": "55ff9c37-c557-4663-ae11-14f2679d570c",
   "metadata": {},
   "outputs": [],
   "source": [
    "# Freeze all base layers in the \"features\" section of the model (the feature extractor) by setting requires_grad=False\n",
    "for param in model.features.parameters():\n",
    "    param.requires_grad = False\n",
    "    \n",
    "# Recreate the classifier layer and seed it to the target device\n",
    "model.classifier = torch.nn.Sequential(\n",
    "    #torch.nn.Dropout(p=0.2, inplace=True), \n",
    "    torch.nn.Linear(in_features=9216, out_features=10,bias=True)\n",
    ").to(device)"
   ]
  },
  {
   "cell_type": "code",
   "execution_count": null,
   "id": "1df8a041-c1ea-40b0-9a00-ea4e10586f39",
   "metadata": {
    "tags": []
   },
   "outputs": [],
   "source": [
    "summary(model=model_new, \n",
    "        input_size=(32, 3, 224, 224), # make sure this is \"input_size\", not \"input_shape\"\n",
    "        # col_names=[\"input_size\"], # uncomment for smaller output\n",
    "        col_names=[\"input_size\", \"output_size\", \"num_params\", \"trainable\"],\n",
    "        col_width=20,\n",
    "        row_settings=[\"var_names\"]\n",
    ")"
   ]
  },
  {
   "cell_type": "code",
   "execution_count": null,
   "id": "37589377-baf1-4bc9-a642-f8051b897b91",
   "metadata": {},
   "outputs": [],
   "source": [
    "n_epochs = 5\n",
    "criterion = nn.CrossEntropyLoss()\n",
    "optim = torch.optim.SGD(model.parameters(),lr=0.001,momentum=0.99)"
   ]
  },
  {
   "cell_type": "code",
   "execution_count": null,
   "id": "1cf52fd1-20f5-45cf-9d98-78466efe71fb",
   "metadata": {
    "tags": []
   },
   "outputs": [],
   "source": [
    "history = {'train_loss': [], 'test_loss': [],'train_acc':[],'test_acc':[]}\n",
    "\n",
    "for epoch in range(n_epochs):\n",
    "    train_loss, train_acc = train(model,train_loader,criterion,optim,device,epoch)\n",
    "    test_loss, test_acc = test(model,test_loader,criterion,optim,None, None,device,epoch)\n",
    "    \n",
    "    history['train_loss'].append(train_loss)\n",
    "    history['test_loss'].append(test_loss)\n",
    "    history['train_acc'].append(train_acc)\n",
    "    history['test_acc'].append(test_acc)"
   ]
  },
  {
   "cell_type": "markdown",
   "id": "4a673ce2-8275-4616-ae8f-005ae0a8e3af",
   "metadata": {},
   "source": [
    "Extract features from model using model.features in this case. Pass the input and you will get the desired features. Now pass this to SVM or other classifiers. "
   ]
  },
  {
   "cell_type": "code",
   "execution_count": null,
   "id": "1653e4af-8fd4-4636-ad63-9b275a3287fd",
   "metadata": {},
   "outputs": [],
   "source": [
    "model_new = model.features\n",
    "x,y = next(iter(train_loader))\n",
    "x,y = x.to(device), y.to(device)\n",
    "op = model_new(x)\n",
    "op.shape"
   ]
  },
  {
   "cell_type": "code",
   "execution_count": null,
   "id": "a77b5237-e745-4906-a32c-c78e7f75f7a0",
   "metadata": {},
   "outputs": [],
   "source": []
  },
  {
   "cell_type": "code",
   "execution_count": null,
   "id": "64c65fb5-d712-440b-bc22-4f0c79859592",
   "metadata": {},
   "outputs": [],
   "source": []
  },
  {
   "cell_type": "code",
   "execution_count": null,
   "id": "317c5499-a4e6-449e-9e03-a6bf3d4deb48",
   "metadata": {},
   "outputs": [],
   "source": []
  },
  {
   "cell_type": "code",
   "execution_count": null,
   "id": "7e2a2b66-d311-4241-af8b-0aba4d7e5b5f",
   "metadata": {},
   "outputs": [],
   "source": []
  },
  {
   "cell_type": "code",
   "execution_count": null,
   "id": "2884ccc9-8342-47cd-9613-f412a45ad4fa",
   "metadata": {},
   "outputs": [],
   "source": []
  },
  {
   "cell_type": "code",
   "execution_count": null,
   "id": "dc40cd7c-f440-49fe-87cf-2ae472ccac29",
   "metadata": {},
   "outputs": [],
   "source": []
  },
  {
   "cell_type": "code",
   "execution_count": null,
   "id": "f3e9b2f5-50be-45f1-8ca4-102cdd5aee3d",
   "metadata": {},
   "outputs": [],
   "source": []
  },
  {
   "cell_type": "code",
   "execution_count": null,
   "id": "24f40d69-bd95-4022-b514-78bf53dda69e",
   "metadata": {},
   "outputs": [],
   "source": []
  },
  {
   "cell_type": "code",
   "execution_count": null,
   "id": "5122146f-fc5e-491b-942e-79a7807cd574",
   "metadata": {},
   "outputs": [],
   "source": []
  },
  {
   "cell_type": "code",
   "execution_count": null,
   "id": "1feac3a5-34b7-4a37-acf0-a2ba419db1b2",
   "metadata": {},
   "outputs": [],
   "source": []
  }
 ],
 "metadata": {
  "kernelspec": {
   "display_name": "Torch",
   "language": "python",
   "name": "torch_env"
  },
  "language_info": {
   "codemirror_mode": {
    "name": "ipython",
    "version": 3
   },
   "file_extension": ".py",
   "mimetype": "text/x-python",
   "name": "python",
   "nbconvert_exporter": "python",
   "pygments_lexer": "ipython3",
   "version": "3.9.12"
  }
 },
 "nbformat": 4,
 "nbformat_minor": 5
}
